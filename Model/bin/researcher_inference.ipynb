{
 "cells": [
  {
   "cell_type": "code",
   "execution_count": 44,
   "metadata": {},
   "outputs": [
    {
     "name": "stdout",
     "output_type": "stream",
     "text": [
      "['High']\n",
      "[0.8080760836601257]\n"
     ]
    }
   ],
   "source": [
    "import torch\n",
    "from transformers import BertModel, BertTokenizer\n",
    "from torch.utils.data import DataLoader,TensorDataset\n",
    "import re\n",
    "import numpy as np\n",
    "\n",
    "# Define the regression model class (as you did before)\n",
    "class BertForRegression(torch.nn.Module):\n",
    "    def __init__(self, model_name, hidden_size=768):\n",
    "        super(BertForRegression, self).__init__()\n",
    "        self.bert = BertModel.from_pretrained(model_name)\n",
    "        self.regressor = torch.nn.Linear(hidden_size, 1)\n",
    "\n",
    "    def forward(self, input_ids, attention_mask, token_type_ids = None):\n",
    "        outputs = self.bert(input_ids=input_ids, attention_mask=attention_mask)\n",
    "        pooled_output = outputs.pooler_output\n",
    "        regression_output = self.regressor(pooled_output)\n",
    "        return regression_output\n",
    "\n",
    "def clean_text(text):\n",
    "    # Remove everything between angle brackets\n",
    "    clean_text = re.sub(r'<[^>]*>', '', text)\n",
    "    # Remove newline and other extra whitespace characters\n",
    "    clean_text = clean_text.replace('\\n', ' ').replace('\\r', ' ').replace('\\t', ' ').strip()\n",
    "    # Replace multiple spaces with a single space\n",
    "    clean_text = re.sub(r'\\s+', ' ', clean_text)\n",
    "    return clean_text\n",
    "\n",
    "# Initialize the model with the same model name used during training\n",
    "model = BertForRegression(\"microsoft/BiomedNLP-PubMedBERT-base-uncased-abstract-fulltext\")\n",
    "\n",
    "# Load the state dictionary\n",
    "model.load_state_dict(torch.load(r\"C:\\Users\\Hubert\\Documents\\GitHub\\researcher\\Model\\finetuned_PMBERT_regression.pth\"))\n",
    "\n",
    "# If the model was trained on a GPU and you're loading on CPU, use:\n",
    "# model.load_state_dict(torch.load(\"finetuned_PMBERT_regression.pth\", map_location=torch.device('cpu')))\n",
    "\n",
    "# Set the model to evaluation mode if you're making predictions\n",
    "model.eval()\n",
    "\n",
    "# Step 1: Read the text file\n",
    "with open(r'C:\\Users\\Hubert\\Documents\\GitHub\\researcher\\Model\\data\\new_data.txt', 'r', encoding='utf-8') as file:\n",
    "    text = file.read()\n",
    "\n",
    "text = clean_text(text=text)\n",
    "\n",
    "# Load the tokenizer\n",
    "tokenizer = BertTokenizer.from_pretrained(\"microsoft/BiomedNLP-PubMedBERT-base-uncased-abstract-fulltext\")\n",
    "\n",
    "# Step 2: Tokenize the text\n",
    "inputs = tokenizer(text, return_tensors=\"pt\", padding=True, truncation=True, max_length=512)\n",
    "\n",
    "# Step 3: Convert to DataLoader\n",
    "dataset = TensorDataset(inputs['input_ids'], inputs['attention_mask'])\n",
    "dataloader = DataLoader(dataset, batch_size=1)  # Batch size of 1 since we're predicting one text\n",
    "\n",
    "# Step 4: Make Predictions\n",
    "model.eval()  # Ensure the model is in eval mode\n",
    "predictions = []\n",
    "with torch.no_grad():\n",
    "    for batch in dataloader:\n",
    "        b_input_ids, b_input_mask = batch\n",
    "        outputs = model(b_input_ids, b_input_mask)\n",
    "        predictions.append(outputs.squeeze().item())\n",
    "\n",
    "# Step 5: Interpret Results\n",
    "# If you are performing regression, the output is already in `predictions`\n",
    "# If you need to classify based on a threshold:\n",
    "threshold = 0.7  # Example threshold\n",
    "classified_outputs = [\"High\" if pred >= threshold else \"Low\" for pred in predictions]\n",
    "\n",
    "print(classified_outputs)\n",
    "print(predictions)\n",
    "\n"
   ]
  },
  {
   "cell_type": "code",
   "execution_count": 42,
   "metadata": {},
   "outputs": [
    {
     "name": "stderr",
     "output_type": "stream",
     "text": [
      "[nltk_data] Downloading package punkt to\n",
      "[nltk_data]     C:\\Users\\Hubert\\AppData\\Roaming\\nltk_data...\n",
      "[nltk_data]   Package punkt is already up-to-date!\n"
     ]
    },
    {
     "name": "stdout",
     "output_type": "stream",
     "text": [
      "Thalassemia is a hemoglobinopathy caused by variations (including mutations, deletions, duplications, and gene rearrangements) in alpha (α)- and beta (β)-globin gene clusters that disrupt the balance of synthesis between the α- and β-globin chains which compose hemoglobin [2]. Thalassemia is a hemoglobinopathy caused by variations (including mutations, deletions, duplications, and gene rearrangements) in alpha (α)- and beta (β)-globin gene clusters that disrupt the balance of synthesis between the α- and β-globin chains which compose hemoglobin [2]. Thalassemia is a hemoglobinopathy caused by variations (including mutations, deletions, duplications, and gene rearrangements) in alpha (α)- and beta (β)-globin gene clusters that disrupt the balance of synthesis between the α- and β-globin chains which compose hemoglobin [2]. Thalassemia is a hemoglobinopathy caused by variations (including mutations, deletions, duplications, and gene rearrangements) in alpha (α)- and beta (β)-globin gene clusters that disrupt the balance of synthesis between the α- and β-globin chains which compose hemoglobin [2]. Thalassemia is a hemoglobinopathy caused by variations (including mutations, deletions, duplications, and gene rearrangements) in alpha (α)- and beta (β)-globin gene clusters that disrupt the balance of synthesis between the α- and β-globin chains which compose hemoglobin [2]. Thalassemia is a hemoglobinopathy caused by variations (including mutations, deletions, duplications, and gene rearrangements) in alpha (α)- and beta (β)-globin gene clusters that disrupt the balance of synthesis between the α- and β-globin chains which compose hemoglobin [2]. The result of Hemoglobin (Hb) analysis was normal. Thalassemia is a hemoglobinopathy caused by variations (including mutations, deletions, duplications, and gene rearrangements) in alpha (α)- and beta (β)-globin gene clusters that disrupt the balance of synthesis between the α- and β-globin chains which compose hemoglobin [2]. Thalassemia is a hemoglobinopathy caused by variations (including mutations, deletions, duplications, and gene rearrangements) in alpha (α)- and beta (β)-globin gene clusters that disrupt the balance of synthesis between the α- and β-globin chains which compose hemoglobin [2]. Thalassemia is a hemoglobinopathy caused by variations (including mutations, deletions, duplications, and gene rearrangements) in alpha (α)- and beta (β)-globin gene clusters that disrupt the balance of synthesis between the α- and β-globin chains which compose hemoglobin [2]. The result of Hemoglobin (Hb) analysis was normal. Thalassemia is a hemoglobinopathy caused by variations (including mutations, deletions, duplications, and gene rearrangements) in alpha (α)- and beta (β)-globin gene clusters that disrupt the balance of synthesis between the α- and β-globin chains which compose hemoglobin [2]. Thalassemia is a hemoglobinopathy caused by variations (including mutations, deletions, duplications, and gene rearrangements) in alpha (α)- and beta (β)-globin gene clusters that disrupt the balance of synthesis between the α- and β-globin chains which compose hemoglobin [2]. Thalassemia is a hemoglobinopathy caused by variations (including mutations, deletions, duplications, and gene rearrangements) in alpha (α)- and beta (β)-globin gene clusters that disrupt the balance of synthesis between the α- and β-globin chains which compose hemoglobin [2]. Thalassemia is a hemoglobinopathy caused by variations (including mutations, deletions, duplications, and gene rearrangements) in alpha (α)- and beta (β)-globin gene clusters that disrupt the balance of synthesis between the α- and β-globin chains which compose hemoglobin [2]. Thalassemia is a hemoglobinopathy caused by variations (including mutations, deletions, duplications, and gene rearrangements) in alpha (α)- and beta (β)-globin gene clusters that disrupt the balance of synthesis between the α- and β-globin chains which compose hemoglobin [2]. Thalassemia is a hemoglobinopathy caused by variations (including mutations, deletions, duplications, and gene rearrangements) in alpha (α)- and beta (β)-globin gene clusters that disrupt the balance of synthesis between the α- and β-globin chains which compose hemoglobin [2]. Thalassemia is a hemoglobinopathy caused by variations (including mutations, deletions, duplications, and gene rearrangements) in alpha (α)- and beta (β)-globin gene clusters that disrupt the balance of synthesis between the α- and β-globin chains which compose hemoglobin [2]. Thalassemia is a hemoglobinopathy caused by variations (including mutations, deletions, duplications, and gene rearrangements) in alpha (α)- and beta (β)-globin gene clusters that disrupt the balance of synthesis between the α- and β-globin chains which compose hemoglobin [2]. Thalassemia is a hemoglobinopathy caused by variations (including mutations, deletions, duplications, and gene rearrangements) in alpha (α)- and beta (β)-globin gene clusters that disrupt the balance of synthesis between the α- and β-globin chains which compose hemoglobin [2]. Thalassemia is a hemoglobinopathy caused by variations (including mutations, deletions, duplications, and gene rearrangements) in alpha (α)- and beta (β)-globin gene clusters that disrupt the balance of synthesis between the α- and β-globin chains which compose hemoglobin [2]. Thalassemia is a hemoglobinopathy caused by variations (including mutations, deletions, duplications, and gene rearrangements) in alpha (α)- and beta (β)-globin gene clusters that disrupt the balance of synthesis between the α- and β-globin chains which compose hemoglobin [2]. Thalassemia is a hemoglobinopathy caused by variations (including mutations, deletions, duplications, and gene rearrangements) in alpha (α)- and beta (β)-globin gene clusters that disrupt the balance of synthesis between the α- and β-globin chains which compose hemoglobin [2]. Thalassemia is a hemoglobinopathy caused by variations (including mutations, deletions, duplications, and gene rearrangements) in alpha (α)- and beta (β)-globin gene clusters that disrupt the balance of synthesis between the α- and β-globin chains which compose hemoglobin [2]. Thalassemia is a hemoglobinopathy caused by variations (including mutations, deletions, duplications, and gene rearrangements) in alpha (α)- and beta (β)-globin gene clusters that disrupt the balance of synthesis between the α- and β-globin chains which compose hemoglobin [2]. Thalassemia is a hemoglobinopathy caused by variations (including mutations, deletions, duplications, and gene rearrangements) in alpha (α)- and beta (β)-globin gene clusters that disrupt the balance of synthesis between the α- and β-globin chains which compose hemoglobin [2]. Thalassemia is a hemoglobinopathy caused by variations (including mutations, deletions, duplications, and gene rearrangements) in alpha (α)- and beta (β)-globin gene clusters that disrupt the balance of synthesis between the α- and β-globin chains which compose hemoglobin [2]. Thalassemia is a hemoglobinopathy caused by variations (including mutations, deletions, duplications, and gene rearrangements) in alpha (α)- and beta (β)-globin gene clusters that disrupt the balance of synthesis between the α- and β-globin chains which compose hemoglobin [2]. Thalassemia is a hemoglobinopathy caused by variations (including mutations, deletions, duplications, and gene rearrangements) in alpha (α)- and beta (β)-globin gene clusters that disrupt the balance of synthesis between the α- and β-globin chains which compose hemoglobin [2]. Thalassemia is a hemoglobinopathy caused by variations (including mutations, deletions, duplications, and gene rearrangements) in alpha (α)- and beta (β)-globin gene clusters that disrupt the balance of synthesis between the α- and β-globin chains which compose hemoglobin [2]. Thalassemia is a hemoglobinopathy caused by variations (including mutations, deletions, duplications, and gene rearrangements) in alpha (α)- and beta (β)-globin gene clusters that disrupt the balance of synthesis between the α- and β-globin chains which compose hemoglobin [2]. Thalassemia is a hemoglobinopathy caused by variations (including mutations, deletions, duplications, and gene rearrangements) in alpha (α)- and beta (β)-globin gene clusters that disrupt the balance of synthesis between the α- and β-globin chains which compose hemoglobin [2]. Thalassemia is a hemoglobinopathy caused by variations (including mutations, deletions, duplications, and gene rearrangements) in alpha (α)- and beta (β)-globin gene clusters that disrupt the balance of synthesis between the α- and β-globin chains which compose hemoglobin [2]. Thalassemia is a hemoglobinopathy caused by variations (including mutations, deletions, duplications, and gene rearrangements) in alpha (α)- and beta (β)-globin gene clusters that disrupt the balance of synthesis between the α- and β-globin chains which compose hemoglobin [2]. Thalassemia is a hemoglobinopathy caused by variations (including mutations, deletions, duplications, and gene rearrangements) in alpha (α)- and beta (β)-globin gene clusters that disrupt the balance of synthesis between the α- and β-globin chains which compose hemoglobin [2]. Thalassemia is a hemoglobinopathy caused by variations (including mutations, deletions, duplications, and gene rearrangements) in alpha (α)- and beta (β)-globin gene clusters that disrupt the balance of synthesis between the α- and β-globin chains which compose hemoglobin [2]. Thalassemia is a hemoglobinopathy caused by variations (including mutations, deletions, duplications, and gene rearrangements) in alpha (α)- and beta (β)-globin gene clusters that disrupt the balance of synthesis between the α- and β-globin chains which compose hemoglobin [2]. Thalassemia is a hemoglobinopathy caused by variations (including mutations, deletions, duplications, and gene rearrangements) in alpha (α)- and beta (β)-globin gene clusters that disrupt the balance of synthesis between the α- and β-globin chains which compose hemoglobin [2]. The result of Hemoglobin (Hb) analysis was normal. Thalassemia is a hemoglobinopathy caused by variations (including mutations, deletions, duplications, and gene rearrangements) in alpha (α)- and beta (β)-globin gene clusters that disrupt the balance of synthesis between the α- and β-globin chains which compose hemoglobin [2]. Thalassemia is a hemoglobinopathy caused by variations (including mutations, deletions, duplications, and gene rearrangements) in alpha (α)- and beta (β)-globin gene clusters that disrupt the balance of synthesis between the α- and β-globin chains which compose hemoglobin [2]. The result of Hemoglobin (Hb) analysis was normal. Thalassemia is a hemoglobinopathy caused by variations (including mutations, deletions, duplications, and gene rearrangements) in alpha (α)- and beta (β)-globin gene clusters that disrupt the balance of synthesis between the α- and β-globin chains which compose hemoglobin [2]. Thalassemia is a hemoglobinopathy caused by variations (including mutations, deletions, duplications, and gene rearrangements) in alpha (α)- and beta (β)-globin gene clusters that disrupt the balance of synthesis between the α- and β-globin chains which compose hemoglobin [2]. Thalassemia is a hemoglobinopathy caused by variations (including mutations, deletions, duplications, and gene rearrangements) in alpha (α)- and beta (β)-globin gene clusters that disrupt the balance of synthesis between the α- and β-globin chains which compose hemoglobin [2]. Thalassemia is a hemoglobinopathy caused by variations (including mutations, deletions, duplications, and gene rearrangements) in alpha (α)- and beta (β)-globin gene clusters that disrupt the balance of synthesis between the α- and β-globin chains which compose hemoglobin [2]. Thalassemia is a hemoglobinopathy caused by variations (including mutations, deletions, duplications, and gene rearrangements) in alpha (α)- and beta (β)-globin gene clusters that disrupt the balance of synthesis between the α- and β-globin chains which compose hemoglobin [2]. Thalassemia is a hemoglobinopathy caused by variations (including mutations, deletions, duplications, and gene rearrangements) in alpha (α)- and beta (β)-globin gene clusters that disrupt the balance of synthesis between the α- and β-globin chains which compose hemoglobin [2]. Thalassemia is a hemoglobinopathy caused by variations (including mutations, deletions, duplications, and gene rearrangements) in alpha (α)- and beta (β)-globin gene clusters that disrupt the balance of synthesis between the α- and β-globin chains which compose hemoglobin [2]. Thalassemia is a hemoglobinopathy caused by variations (including mutations, deletions, duplications, and gene rearrangements) in alpha (α)- and beta (β)-globin gene clusters that disrupt the balance of synthesis between the α- and β-globin chains which compose hemoglobin [2]. Thalassemia is a hemoglobinopathy caused by variations (including mutations, deletions, duplications, and gene rearrangements) in alpha (α)- and beta (β)-globin gene clusters that disrupt the balance of synthesis between the α- and β-globin chains which compose hemoglobin [2]. Thalassemia is a hemoglobinopathy caused by variations (including mutations, deletions, duplications, and gene rearrangements) in alpha (α)- and beta (β)-globin gene clusters that disrupt the balance of synthesis between the α- and β-globin chains which compose hemoglobin [2]. Thalassemia is a hemoglobinopathy caused by variations (including mutations, deletions, duplications, and gene rearrangements) in alpha (α)- and beta (β)-globin gene clusters that disrupt the balance of synthesis between the α- and β-globin chains which compose hemoglobin [2]. Thalassemia is a hemoglobinopathy caused by variations (including mutations, deletions, duplications, and gene rearrangements) in alpha (α)- and beta (β)-globin gene clusters that disrupt the balance of synthesis between the α- and β-globin chains which compose hemoglobin [2]. Thalassemia is a hemoglobinopathy caused by variations (including mutations, deletions, duplications, and gene rearrangements) in alpha (α)- and beta (β)-globin gene clusters that disrupt the balance of synthesis between the α- and β-globin chains which compose hemoglobin [2]. Thalassemia is a hemoglobinopathy caused by variations (including mutations, deletions, duplications, and gene rearrangements) in alpha (α)- and beta (β)-globin gene clusters that disrupt the balance of synthesis between the α- and β-globin chains which compose hemoglobin [2]. Thalassemia is a hemoglobinopathy caused by variations (including mutations, deletions, duplications, and gene rearrangements) in alpha (α)- and beta (β)-globin gene clusters that disrupt the balance of synthesis between the α- and β-globin chains which compose hemoglobin [2]. Thalassemia is a hemoglobinopathy caused by variations (including mutations, deletions, duplications, and gene rearrangements) in alpha (α)- and beta (β)-globin gene clusters that disrupt the balance of synthesis between the α- and β-globin chains which compose hemoglobin [2]. Thalassemia is a hemoglobinopathy caused by variations (including mutations, deletions, duplications, and gene rearrangements) in alpha (α)- and beta (β)-globin gene clusters that disrupt the balance of synthesis between the α- and β-globin chains which compose hemoglobin [2]. Thalassemia is a hemoglobinopathy caused by variations (including mutations, deletions, duplications, and gene rearrangements) in alpha (α)- and beta (β)-globin gene clusters that disrupt the balance of synthesis between the α- and β-globin chains which compose hemoglobin [2]. Thalassemia is a hemoglobinopathy caused by variations (including mutations, deletions, duplications, and gene rearrangements) in alpha (α)- and beta (β)-globin gene clusters that disrupt the balance of synthesis between the α- and β-globin chains which compose hemoglobin [2]. Thalassemia is a hemoglobinopathy caused by variations (including mutations, deletions, duplications, and gene rearrangements) in alpha (α)- and beta (β)-globin gene clusters that disrupt the balance of synthesis between the α- and β-globin chains which compose hemoglobin [2]. Thalassemia is a hemoglobinopathy caused by variations (including mutations, deletions, duplications, and gene rearrangements) in alpha (α)- and beta (β)-globin gene clusters that disrupt the balance of synthesis between the α- and β-globin chains which compose hemoglobin [2]. Thalassemia is a hemoglobinopathy caused by variations (including mutations, deletions, duplications, and gene rearrangements) in alpha (α)- and beta (β)-globin gene clusters that disrupt the balance of synthesis between the α- and β-globin chains which compose hemoglobin [2]. Thalassemia is a hemoglobinopathy caused by variations (including mutations, deletions, duplications, and gene rearrangements) in alpha (α)- and beta (β)-globin gene clusters that disrupt the balance of synthesis between the α- and β-globin chains which compose hemoglobin [2]. Thalassemia is a hemoglobinopathy caused by variations (including mutations, deletions, duplications, and gene rearrangements) in alpha (α)- and beta (β)-globin gene clusters that disrupt the balance of synthesis between the α- and β-globin chains which compose hemoglobin [2]. Thalassemia is a hemoglobinopathy caused by variations (including mutations, deletions, duplications, and gene rearrangements) in alpha (α)- and beta (β)-globin gene clusters that disrupt the balance of synthesis between the α- and β-globin chains which compose hemoglobin [2]. Thalassemia is a hemoglobinopathy caused by variations (including mutations, deletions, duplications, and gene rearrangements) in alpha (α)- and beta (β)-globin gene clusters that disrupt the balance of synthesis between the α- and β-globin chains which compose hemoglobin [2]. Thalassemia is a hemoglobinopathy caused by variations (including mutations, deletions, duplications, and gene rearrangements) in alpha (α)- and beta (β)-globin gene clusters that disrupt the balance of synthesis between the α- and β-globin chains which compose hemoglobin [2]. Thalassemia is a hemoglobinopathy caused by variations (including mutations, deletions, duplications, and gene rearrangements) in alpha (α)- and beta (β)-globin gene clusters that disrupt the balance of synthesis between the α- and β-globin chains which compose hemoglobin [2]. Thalassemia is a hemoglobinopathy caused by variations (including mutations, deletions, duplications, and gene rearrangements) in alpha (α)- and beta (β)-globin gene clusters that disrupt the balance of synthesis between the α- and β-globin chains which compose hemoglobin [2]. Thalassemia is a hemoglobinopathy caused by variations (including mutations, deletions, duplications, and gene rearrangements) in alpha (α)- and beta (β)-globin gene clusters that disrupt the balance of synthesis between the α- and β-globin chains which compose hemoglobin [2]. Thalassemia is a hemoglobinopathy caused by variations (including mutations, deletions, duplications, and gene rearrangements) in alpha (α)- and beta (β)-globin gene clusters that disrupt the balance of synthesis between the α- and β-globin chains which compose hemoglobin [2]. Thalassemia is a hemoglobinopathy caused by variations (including mutations, deletions, duplications, and gene rearrangements) in alpha (α)- and beta (β)-globin gene clusters that disrupt the balance of synthesis between the α- and β-globin chains which compose hemoglobin [2]. Thalassemia is a hemoglobinopathy caused by variations (including mutations, deletions, duplications, and gene rearrangements) in alpha (α)- and beta (β)-globin gene clusters that disrupt the balance of synthesis between the α- and β-globin chains which compose hemoglobin [2]. Thalassemia is a hemoglobinopathy caused by variations (including mutations, deletions, duplications, and gene rearrangements) in alpha (α)- and beta (β)-globin gene clusters that disrupt the balance of synthesis between the α- and β-globin chains which compose hemoglobin [2]. Thalassemia is a hemoglobinopathy caused by variations (including mutations, deletions, duplications, and gene rearrangements) in alpha (α)- and beta (β)-globin gene clusters that disrupt the balance of synthesis between the α- and β-globin chains which compose hemoglobin [2]. Thalassemia is a hemoglobinopathy caused by variations (including mutations, deletions, duplications, and gene rearrangements) in alpha (α)- and beta (β)-globin gene clusters that disrupt the balance of synthesis between the α- and β-globin chains which compose hemoglobin [2]. Thalassemia is a hemoglobinopathy caused by variations (including mutations, deletions, duplications, and gene rearrangements) in alpha (α)- and beta (β)-globin gene clusters that disrupt the balance of synthesis between the α- and β-globin chains which compose hemoglobin [2]. Thalassemia is a hemoglobinopathy caused by variations (including mutations, deletions, duplications, and gene rearrangements) in alpha (α)- and beta (β)-globin gene clusters that disrupt the balance of synthesis between the α- and β-globin chains which compose hemoglobin [2]. Thalassemia is a hemoglobinopathy caused by variations (including mutations, deletions, duplications, and gene rearrangements) in alpha (α)- and beta (β)-globin gene clusters that disrupt the balance of synthesis between the α- and β-globin chains which compose hemoglobin [2]. Thalassemia is a hemoglobinopathy caused by variations (including mutations, deletions, duplications, and gene rearrangements) in alpha (α)- and beta (β)-globin gene clusters that disrupt the balance of synthesis between the α- and β-globin chains which compose hemoglobin [2]. Thalassemia is a hemoglobinopathy caused by variations (including mutations, deletions, duplications, and gene rearrangements) in alpha (α)- and beta (β)-globin gene clusters that disrupt the balance of synthesis between the α- and β-globin chains which compose hemoglobin [2]. Thalassemia is a hemoglobinopathy caused by variations (including mutations, deletions, duplications, and gene rearrangements) in alpha (α)- and beta (β)-globin gene clusters that disrupt the balance of synthesis between the α- and β-globin chains which compose hemoglobin [2]. Thalassemia is a hemoglobinopathy caused by variations (including mutations, deletions, duplications, and gene rearrangements) in alpha (α)- and beta (β)-globin gene clusters that disrupt the balance of synthesis between the α- and β-globin chains which compose hemoglobin [2]. Thalassemia is a hemoglobinopathy caused by variations (including mutations, deletions, duplications, and gene rearrangements) in alpha (α)- and beta (β)-globin gene clusters that disrupt the balance of synthesis between the α- and β-globin chains which compose hemoglobin [2]. Thalassemia is a hemoglobinopathy caused by variations (including mutations, deletions, duplications, and gene rearrangements) in alpha (α)- and beta (β)-globin gene clusters that disrupt the balance of synthesis between the α- and β-globin chains which compose hemoglobin [2]. Thalassemia is a hemoglobinopathy caused by variations (including mutations, deletions, duplications, and gene rearrangements) in alpha (α)- and beta (β)-globin gene clusters that disrupt the balance of synthesis between the α- and β-globin chains which compose hemoglobin [2]. Thalassemia is a hemoglobinopathy caused by variations (including mutations, deletions, duplications, and gene rearrangements) in alpha (α)- and beta (β)-globin gene clusters that disrupt the balance of synthesis between the α- and β-globin chains which compose hemoglobin [2]. Thalassemia is a hemoglobinopathy caused by variations (including mutations, deletions, duplications, and gene rearrangements) in alpha (α)- and beta (β)-globin gene clusters that disrupt the balance of synthesis between the α- and β-globin chains which compose hemoglobin [2].\n"
     ]
    },
    {
     "name": "stderr",
     "output_type": "stream",
     "text": [
      "c:\\Users\\Hubert\\anaconda3\\envs\\bs4\\Lib\\site-packages\\sklearn\\cluster\\_kmeans.py:1446: UserWarning: KMeans is known to have a memory leak on Windows with MKL, when there are less chunks than available threads. You can avoid it by setting the environment variable OMP_NUM_THREADS=1.\n",
      "  warnings.warn(\n"
     ]
    }
   ],
   "source": [
    "\n",
    "import nltk\n",
    "from sklearn.metrics.pairwise import cosine_similarity\n",
    "from sklearn.cluster import KMeans\n",
    "\n",
    "nltk.download('punkt')\n",
    "from nltk.tokenize import sent_tokenize\n",
    "\n",
    "# Assuming the tokenizer is for the same model\n",
    "tokenizer = BertTokenizer.from_pretrained(\"microsoft/BiomedNLP-PubMedBERT-base-uncased-abstract-fulltext\")\n",
    "\n",
    "def get_embeddings(text, model):\n",
    "    # Tokenize the input text\n",
    "    inputs = tokenizer(text, return_tensors=\"pt\", padding=True, truncation=True, max_length=512)\n",
    "    input_ids = inputs['input_ids']\n",
    "    attention_mask = inputs['attention_mask']\n",
    "\n",
    "    # Use the model to get embeddings\n",
    "    model.eval()  # Set the model to evaluation mode\n",
    "    with torch.no_grad():  # Disable gradient computation\n",
    "        embeddings = model(input_ids=input_ids, attention_mask=attention_mask, return_embeddings=True)\n",
    "    \n",
    "    return embeddings.detach().numpy()  # Convert PyTorch tensor to NumPy array for further processing\n",
    "\n",
    "\n",
    "def extractive_summarization(text, num_sentences=90):\n",
    "    sentences = sent_tokenize(text)\n",
    "    sentence_embeddings = np.vstack([get_embeddings(sent)[0].mean(axis=0) for sent in sentences])\n",
    "    # Clustering sentences\n",
    "    num_clusters = min(num_sentences, len(sentences))  # Ensuring we don't exceed number of sentences\n",
    "    kmeans = KMeans(n_clusters=num_clusters, random_state=0).fit(sentence_embeddings)\n",
    "    centroids = kmeans.cluster_centers_\n",
    "\n",
    "    # Selecting one sentence per cluster (closest to centroid)\n",
    "    summarized_sentences = []\n",
    "    for centroid in centroids:\n",
    "        similarities = cosine_similarity([centroid], sentence_embeddings)\n",
    "        best_sentence = np.argmax(similarities)\n",
    "        summarized_sentences.append(sentences[best_sentence])\n",
    "\n",
    "    return \" \".join(summarized_sentences)\n",
    "\n",
    "# Example usage\n",
    "summary = extractive_summarization(text)\n",
    "print(summary)\n",
    "\n"
   ]
  },
  {
   "cell_type": "code",
   "execution_count": 46,
   "metadata": {},
   "outputs": [
    {
     "data": {
      "text/plain": [
       "array([[0.52080613]], dtype=float32)"
      ]
     },
     "execution_count": 46,
     "metadata": {},
     "output_type": "execute_result"
    }
   ],
   "source": [
    "get_predictions(text)\n"
   ]
  }
 ],
 "metadata": {
  "kernelspec": {
   "display_name": "bs4",
   "language": "python",
   "name": "python3"
  },
  "language_info": {
   "codemirror_mode": {
    "name": "ipython",
    "version": 3
   },
   "file_extension": ".py",
   "mimetype": "text/x-python",
   "name": "python",
   "nbconvert_exporter": "python",
   "pygments_lexer": "ipython3",
   "version": "3.11.9"
  }
 },
 "nbformat": 4,
 "nbformat_minor": 2
}
