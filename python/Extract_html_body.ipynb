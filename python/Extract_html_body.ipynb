{
 "cells": [
  {
   "cell_type": "code",
   "execution_count": null,
   "metadata": {},
   "outputs": [],
   "source": [
    "import os \n",
    "import argparse\n",
    "import subprocess\n",
    "from bs4 import BeautifulSoup\n",
    "from modules.QueryConst import Const\n",
    "\n",
    "def main():\n",
    "    parser = argparse.ArgumentParser(description='Extract <body> content from HTML files in a folder.')\n",
    "    parser.add_argument('folder_path', help='Path to the folder containing HTML files')\n",
    "    args = parser.parse_args()\n",
    "    folder_path = args.folder_path\n",
    "    Const.extract_body_from_html_files(folder_path)"
   ]
  }
 ],
 "metadata": {
  "language_info": {
   "name": "python"
  }
 },
 "nbformat": 4,
 "nbformat_minor": 2
}
