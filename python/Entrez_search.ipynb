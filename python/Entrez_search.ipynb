{
 "cells": [
  {
   "cell_type": "code",
   "execution_count": 9,
   "id": "2bee5755-da53-46d1-bc57-ca529efd8366",
   "metadata": {},
   "outputs": [
    {
     "name": "stdout",
     "output_type": "stream",
     "text": [
      "{'infertility': {'AND', 'NOT', 'OR'}, 'genetic variant': {'AND', 'NOT', 'OR'}, 'human': {'AND', 'NOT', 'OR'}, 'genome': {'AND', 'NOT', 'OR'}, 'RNA': {'AND', 'NOT', 'OR'}}\n"
     ]
    }
   ],
   "source": [
    "from .modules import QueryConst\n",
    "# Set your directory\n",
    "download_dir = '/home/maszyna/researcher1.0/ncbi_articles/'\n",
    "\n",
    "# List of terms for the search\n",
    "terms = ['infertility', 'genetic variant', 'human', 'genome', 'RNA']\n",
    "\n",
    "# List of all possible logical operators used in Entrez searches\n",
    "logical_operators = ['AND', 'OR', 'NOT']\n",
    "\n",
    "# Creating the dictionary\n",
    "terms_operators_dict = {term: set(logical_operators) for term in terms}\n",
    "\n",
    "print(terms_operators_dict)"
   ]
  },
  {
   "cell_type": "code",
   "execution_count": 10,
   "id": "50fdd952",
   "metadata": {},
   "outputs": [],
   "source": [
    "# def write_current_date():\n",
    "#         current_date = datetime.datetime.now().date()\n",
    "#         cwd = os.getcwd() #Niezbyt mądrę jak ktoś odpala z innego folderu \n",
    "#         dir_path_date = os.path.join(cwd,\"date\")\n",
    "#         date_file_path = os.path.join(dir_path_date,\"current_date.txt\")\n",
    "#         if not os.path.exists(dir_path_date): \n",
    "#             os.makedirs(dir_path_date)\n",
    "#             with open(date_file_path, 'w') as date_file:\n",
    "#                  date_file.write(str(current_date))\n",
    "#                  return date_file_path, current_date\n",
    "#         else: \n",
    "#             return date_file_path, current_date\n",
    "\n",
    "# def read_date(date_file_path):\n",
    "#       if os.path.exists(date_file_path):\n",
    "#         with open(date_file_path, 'r') as date_file:\n",
    "#             previous_date = date_file.read()\n",
    "#             return previous_date\n",
    "          \n"
   ]
  },
  {
   "cell_type": "code",
   "execution_count": null,
   "id": "fed6b27e",
   "metadata": {},
   "outputs": [],
   "source": []
  },
  {
   "cell_type": "code",
   "execution_count": 12,
   "id": "3ff36e0e-cb4a-4dd1-af5b-100691ac714b",
   "metadata": {},
   "outputs": [
    {
     "name": "stdout",
     "output_type": "stream",
     "text": [
      "Available terms:\n",
      "1. infertility\n",
      "2. genetic variant\n",
      "3. human\n",
      "4. genome\n",
      "5. RNA\n"
     ]
    },
    {
     "ename": "ValueError",
     "evalue": "invalid literal for int() with base 10: ''",
     "output_type": "error",
     "traceback": [
      "\u001b[1;31m---------------------------------------------------------------------------\u001b[0m",
      "\u001b[1;31mValueError\u001b[0m                                Traceback (most recent call last)",
      "Cell \u001b[1;32mIn[12], line 53\u001b[0m\n\u001b[0;32m     49\u001b[0m     os\u001b[38;5;241m.\u001b[39mmakedirs(download_dir)\n\u001b[0;32m     52\u001b[0m \u001b[38;5;66;03m# Construct and print the query\u001b[39;00m\n\u001b[1;32m---> 53\u001b[0m query \u001b[38;5;241m=\u001b[39m \u001b[43muser_construct_query_with_numbers\u001b[49m\u001b[43m(\u001b[49m\u001b[43mterms_operators_dict\u001b[49m\u001b[43m)\u001b[49m\n\u001b[0;32m     54\u001b[0m \u001b[38;5;28mprint\u001b[39m(\u001b[38;5;124m\"\u001b[39m\u001b[38;5;124mConstructed query:\u001b[39m\u001b[38;5;124m\"\u001b[39m, query)\n",
      "Cell \u001b[1;32mIn[12], line 22\u001b[0m, in \u001b[0;36muser_construct_query_with_numbers\u001b[1;34m(terms_operators_dict)\u001b[0m\n\u001b[0;32m     19\u001b[0m     \u001b[38;5;28mprint\u001b[39m(\u001b[38;5;124mf\u001b[39m\u001b[38;5;124m\"\u001b[39m\u001b[38;5;132;01m{\u001b[39;00mi\u001b[38;5;132;01m}\u001b[39;00m\u001b[38;5;124m. \u001b[39m\u001b[38;5;132;01m{\u001b[39;00mterm\u001b[38;5;132;01m}\u001b[39;00m\u001b[38;5;124m\"\u001b[39m)\n\u001b[0;32m     21\u001b[0m \u001b[38;5;28;01mwhile\u001b[39;00m \u001b[38;5;28;01mTrue\u001b[39;00m:\n\u001b[1;32m---> 22\u001b[0m     term_index \u001b[38;5;241m=\u001b[39m \u001b[38;5;28;43mint\u001b[39;49m\u001b[43m(\u001b[49m\u001b[38;5;28;43minput\u001b[39;49m\u001b[43m(\u001b[49m\u001b[38;5;124;43m\"\u001b[39;49m\u001b[38;5;124;43mEnter the number for your next term (or 0 to finish): \u001b[39;49m\u001b[38;5;124;43m\"\u001b[39;49m\u001b[43m)\u001b[49m\u001b[43m)\u001b[49m \u001b[38;5;241m-\u001b[39m \u001b[38;5;241m1\u001b[39m\n\u001b[0;32m     23\u001b[0m     \u001b[38;5;28;01mif\u001b[39;00m term_index \u001b[38;5;241m==\u001b[39m \u001b[38;5;241m-\u001b[39m\u001b[38;5;241m1\u001b[39m:  \u001b[38;5;66;03m# rudimentary error resolution\u001b[39;00m\n\u001b[0;32m     24\u001b[0m         \u001b[38;5;28;01mbreak\u001b[39;00m\n",
      "\u001b[1;31mValueError\u001b[0m: invalid literal for int() with base 10: ''"
     ]
    }
   ],
   "source": [
    "# def user_construct_query_with_numbers(terms_operators_dict):\n",
    "#     \"\"\"\n",
    "#     Constructs a query string dynamically by allowing the user to choose the order of terms\n",
    "#     and the operators connecting them using numeric identifiers. Users can terminate the\n",
    "#     query creation at any point.\n",
    "\n",
    "#     Parameters:\n",
    "#     - terms_operators_dict (dict): Dictionary with search terms as keys and sets of logical operators as values.\n",
    "\n",
    "#     Returns:\n",
    "#     - str: The user-constructed query string.\n",
    "#     \"\"\"\n",
    "#     query_parts = []\n",
    "#     operators_list = ['AND', 'OR',\n",
    "#                       'NOT']  # Assuming all terms can use all operators for simplicity we will customize that later i think\n",
    "\n",
    "#     print(\"Available terms:\")\n",
    "#     for i, term in enumerate(terms_operators_dict.keys(), start=1):  # this makes that beautiful list we select from\n",
    "#         print(f\"{i}. {term}\")\n",
    "\n",
    "#     while True:\n",
    "#         term_index = int(input(\"Enter the number for your next term (or 0 to finish): \")) - 1\n",
    "#         if term_index == -1:  # rudimentary error resolution\n",
    "#             break\n",
    "\n",
    "#         # Check for valid term selection\n",
    "#         if 0 <= term_index < len(terms_operators_dict):\n",
    "#             term = list(terms_operators_dict.keys())[term_index]\n",
    "#             if query_parts:  # If this is not the first term, ask for an operator\n",
    "#                 print(\"Choose an operator to connect the terms:\")\n",
    "#                 for i, op in enumerate(operators_list, start=1):\n",
    "#                     print(f\"{i}. {op}\")\n",
    "#                 op_index = int(input()) - 1\n",
    "\n",
    "#                 # Check for valid operator selection and append it to the query\n",
    "#                 if 0 <= op_index < len(operators_list):\n",
    "#                     query_parts.append(operators_list[op_index])\n",
    "#                 else:\n",
    "#                     print(\"Invalid operator selection. Skipping...\")\n",
    "#             query_parts.append(term)\n",
    "#         else:\n",
    "#             print(\"Invalid term selection. Please try again.\")\n",
    "\n",
    "#     return ' '.join(query_parts)\n",
    "\n",
    "\n",
    "# # Make sure the download directory exists\n",
    "# if not os.path.exists(download_dir):\n",
    "#     os.makedirs(download_dir)\n",
    "\n",
    "\n",
    "# # Construct and print the query\n",
    "# query = user_construct_query_with_numbers(terms_operators_dict)\n",
    "# print(\"Constructed query:\", query)\n"
   ]
  },
  {
   "cell_type": "code",
   "execution_count": null,
   "id": "9a58fa10-1717-41b9-83aa-5d37f8b8d3cc",
   "metadata": {},
   "outputs": [],
   "source": [
    "# def fetch_pmc_ids(query):\n",
    "#     \"\"\"\n",
    "#     Fetches PMC IDs from NCBI using a list of keywords.\n",
    "\n",
    "#     Parameters:\n",
    "#     - keywords (list): A list of keywords for the search.\n",
    "\n",
    "#     Returns:\n",
    "#     - list: A list of PMC IDs.\n",
    "#     \"\"\"\n",
    "#     # Provide your email to NCBI\n",
    "#     Entrez.email = \"kacper.pietrzyk@stud.umed.lodz.pl\"\n",
    "\n",
    "#     # Use Entrez.esearch to search the PMC database for the keywords\n",
    "#     handle = Entrez.esearch(db=\"pmc\", term=query, retmax=50)\n",
    "#     record = Entrez.read(handle)\n",
    "#     handle.close()\n",
    "\n",
    "#     # Extract the list of PMC IDs from the search results\n",
    "#     pmc_ids = record['IdList']\n",
    "\n",
    "#     return pmc_ids\n"
   ]
  },
  {
   "cell_type": "code",
   "execution_count": null,
   "id": "ea745178-0e5c-45ba-ad8e-9a375960310a",
   "metadata": {},
   "outputs": [],
   "source": [
    "# def read_queries_and_fetch_articles(file_path, download_dir):\n",
    "#     \"\"\"\n",
    "#     Reads queries from a file, fetches PMC IDs for each query, and downloads the articles.\n",
    "\n",
    "#     Parameters:\n",
    "#     - file_path (str): Path to the file containing the queries.\n",
    "#     - download_dir (str): The directory where articles should be saved.\n",
    "#     \"\"\"\n",
    "#     with open(file_path, 'r') as file:\n",
    "#         for query in file:\n",
    "#             query = query.strip()  # Remove any leading/trailing whitespace\n",
    "#             #  GDZIEŚ TUTAJ TRZEBA ROZSZERZYĆ QUERY O DZISIEJSZA DATE ZMIENIAMY TYLKO QUERY\n",
    "#             folder_name_components = [download_dir, query]\n",
    "#             folder_name = \"/\".join(folder_name_components)\n",
    "#             if not os.path.exists(folder_name):  # Checks whether destination directory hasn't been yet created\n",
    "#                 if query:  # Ensure the query is not empty\n",
    "#                     print(f\"Processing query: {query}\")\n",
    "#                     destination_dir = os.path.join(download_dir, query)\n",
    "#                     print(f\"Creating new folder: {destination_dir}\")\n",
    "#                     os.makedirs(destination_dir)\n",
    "#                     download_pmc_articles(query, destination_dir, max_retries=3, rate_limit=0.33)\n",
    "\n"
   ]
  },
  {
   "cell_type": "code",
   "execution_count": null,
   "id": "af26c2b9-e6e1-4cbe-942c-6cd25efb31d0",
   "metadata": {},
   "outputs": [],
   "source": [
    "# def download_pmc_articles(query, destination_dir, max_retries=3, rate_limit=0.33):\n",
    "#     \"\"\"\n",
    "#     Downloads articles from NCBI PMC based on a list of keywords, with rate limiting and retries.\n",
    "\n",
    "#     Parameters:\n",
    "#     - keywords (list): A list of keywords for the search.\n",
    "#     - download_dir (str): The directory where articles should be saved.\n",
    "#     - max_retries (int): Maximum number of retries for each request.\n",
    "#     - rate_limit (float): Minimum time delay between requests in seconds.\n",
    "#     \"\"\"\n",
    "#     # Make sure the download directory exists\n",
    "#     #if not os.path.exists(download_dir):\n",
    "#     #    os.makedirs(download_dir)\n",
    "\n",
    "#     # Set your email here\n",
    "#     Entrez.email = 'kacper.pietrzyk@stud.umed.lodz.pl'\n",
    "\n",
    "#     # Fetch PMC IDs\n",
    "#     # Tutaj funkcja modyfikująca query tak aby uwzględniało date \n",
    "#     # Ta funkcja powinna być odpalona tylko wtedy gdy istnieje już folder zawierający artykuły \n",
    "#     # Trzeba pomyśleć że skoro później robimy zapytania co jakiś czas to można je odseparować od reszty w folderach \n",
    "#     pmc_ids = fetch_pmc_ids(query)\n",
    "\n",
    "#     # Iterate over each PMC ID to download the article\n",
    "#     for pmc_id in pmc_ids:\n",
    "#         retries = 0\n",
    "#         success = False\n",
    "#         while retries < max_retries and not success:\n",
    "#             try:\n",
    "#                 # Use Entrez.efetch to fetch the article content\n",
    "#                 handle = Entrez.efetch(db=\"pmc\", id=pmc_id, rettype=\"html\")\n",
    "#                 article_content = handle.read()\n",
    "#                 handle.close()\n",
    "\n",
    "#                 # Define the path for saving the article\n",
    "#                 article_path = os.path.join(destination_dir, f\"{pmc_id}.html\")\n",
    "\n",
    "#                 # Save the article content to a file\n",
    "#                 with open(article_path, 'wb') as article_file:\n",
    "#                     article_file.write(article_content)\n",
    "\n",
    "#                 success = True  # Mark as successful to exit the loop\n",
    "#             except Exception as e:\n",
    "#                 print(f\"Error downloading article {pmc_id}: {e}. Retrying...\")\n",
    "#                 retries += 1\n",
    "#                 time.sleep(rate_limit)  # Wait before retrying\n",
    "#             finally:\n",
    "#                 if not success:  # Ensure rate limiting even in case of success\n",
    "#                     time.sleep(rate_limit)\n",
    "\n",
    "#     print(f\"Downloaded {len(pmc_ids)} articles to {destination_dir}\")\n",
    "\n",
    "\n",
    "# Set your directory\n",
    "#download_dir = '/home/maszyna/researcher1.0/ncbi_articles/'\n",
    "\n",
    "\n",
    "# Call the function\n",
    "#download_pmc_articles(query, download_dir)\n"
   ]
  },
  {
   "cell_type": "code",
   "execution_count": null,
   "metadata": {},
   "outputs": [],
   "source": [
    "# def overwrite_date(date_file_path, previous_date, current_date):\n",
    "#      current_date = str(current_date)\n",
    "#      current_date = datetime.datetime.strptime(current_date,\"%Y-%m-%d\").date()\n",
    "#      previous_date = datetime.datetime.strptime(previous_date,\"%Y-%m-%d\").date()\n",
    "#      date_difference = abs((current_date - previous_date).days)\n",
    "#      try:\n",
    "#           if date_difference >= 7:\n",
    "#                file_path = \"./queries.txt\"\n",
    "#                read_queries_and_fetch_articles(file_path, download_dir)\n",
    "#                print(f\"Date was different\")\n",
    "#           else:\n",
    "#                print(f\"Date was the same\")\n",
    "#                pass\n",
    "#      except Exception as e:\n",
    "#           print(\"An error has occured {e}\")\n",
    "          \n",
    "          "
   ]
  },
  {
   "cell_type": "code",
   "execution_count": null,
   "id": "7ad7eaf4-cb1b-446a-a1a6-717019c96717",
   "metadata": {},
   "outputs": [
    {
     "ename": "NameError",
     "evalue": "name 'write_current_date' is not defined",
     "output_type": "error",
     "traceback": [
      "\u001b[1;31m---------------------------------------------------------------------------\u001b[0m",
      "\u001b[1;31mNameError\u001b[0m                                 Traceback (most recent call last)",
      "Cell \u001b[1;32mIn[3], line 9\u001b[0m\n\u001b[0;32m      4\u001b[0m     overwrite_date(date_file_path\u001b[38;5;241m=\u001b[39mdate_file_path,previous_date\u001b[38;5;241m=\u001b[39mprevious_date,current_date\u001b[38;5;241m=\u001b[39mcurrent_date)\n\u001b[0;32m      8\u001b[0m \u001b[38;5;28;01mif\u001b[39;00m \u001b[38;5;18m__name__\u001b[39m \u001b[38;5;241m==\u001b[39m \u001b[38;5;124m\"\u001b[39m\u001b[38;5;124m__main__\u001b[39m\u001b[38;5;124m\"\u001b[39m:\n\u001b[1;32m----> 9\u001b[0m     \u001b[43mmain\u001b[49m\u001b[43m(\u001b[49m\u001b[43m)\u001b[49m\n",
      "Cell \u001b[1;32mIn[3], line 2\u001b[0m, in \u001b[0;36mmain\u001b[1;34m()\u001b[0m\n\u001b[0;32m      1\u001b[0m \u001b[38;5;28;01mdef\u001b[39;00m \u001b[38;5;21mmain\u001b[39m():\n\u001b[1;32m----> 2\u001b[0m     date_file_path, current_date \u001b[38;5;241m=\u001b[39m \u001b[43mwrite_current_date\u001b[49m()\n\u001b[0;32m      3\u001b[0m     previous_date \u001b[38;5;241m=\u001b[39m read_date(date_file_path\u001b[38;5;241m=\u001b[39mdate_file_path)\n\u001b[0;32m      4\u001b[0m     overwrite_date(date_file_path\u001b[38;5;241m=\u001b[39mdate_file_path,previous_date\u001b[38;5;241m=\u001b[39mprevious_date,current_date\u001b[38;5;241m=\u001b[39mcurrent_date)\n",
      "\u001b[1;31mNameError\u001b[0m: name 'write_current_date' is not defined"
     ]
    }
   ],
   "source": [
    "def main():\n",
    "    date_file_path, current_date = write_current_date()\n",
    "    previous_date = read_date(date_file_path=date_file_path)\n",
    "    overwrite_date(date_file_path=date_file_path,previous_date=previous_date,current_date=current_date)\n",
    "    \n",
    "\n",
    "\n",
    "if __name__ == \"__main__\":\n",
    "    main()\n",
    "\n",
    "main() #Trzeba będzie usunąć "
   ]
  },
  {
   "cell_type": "code",
   "execution_count": null,
   "id": "0f8f881e",
   "metadata": {},
   "outputs": [
    {
     "ename": "NameError",
     "evalue": "name 'datetime' is not defined",
     "output_type": "error",
     "traceback": [
      "\u001b[1;31m---------------------------------------------------------------------------\u001b[0m",
      "\u001b[1;31mNameError\u001b[0m                                 Traceback (most recent call last)",
      "Cell \u001b[1;32mIn[4], line 15\u001b[0m\n\u001b[0;32m     12\u001b[0m from_format \u001b[38;5;241m=\u001b[39m \u001b[38;5;124m\"\u001b[39m\u001b[38;5;124m%\u001b[39m\u001b[38;5;124mY-\u001b[39m\u001b[38;5;124m%\u001b[39m\u001b[38;5;124mm-\u001b[39m\u001b[38;5;132;01m%d\u001b[39;00m\u001b[38;5;124m\"\u001b[39m\n\u001b[0;32m     13\u001b[0m to_format \u001b[38;5;241m=\u001b[39m \u001b[38;5;124m\"\u001b[39m\u001b[38;5;124m%\u001b[39m\u001b[38;5;124mY/\u001b[39m\u001b[38;5;124m%\u001b[39m\u001b[38;5;124mm/\u001b[39m\u001b[38;5;132;01m%d\u001b[39;00m\u001b[38;5;124m\"\u001b[39m\n\u001b[1;32m---> 15\u001b[0m converted_date_str \u001b[38;5;241m=\u001b[39m \u001b[43mconvert_date_format\u001b[49m\u001b[43m(\u001b[49m\u001b[43mdate_str\u001b[49m\u001b[43m,\u001b[49m\u001b[43m \u001b[49m\u001b[43mfrom_format\u001b[49m\u001b[43m,\u001b[49m\u001b[43m \u001b[49m\u001b[43mto_format\u001b[49m\u001b[43m)\u001b[49m\n\u001b[0;32m     16\u001b[0m \u001b[38;5;28mprint\u001b[39m(\u001b[38;5;124m\"\u001b[39m\u001b[38;5;124mConverted date:\u001b[39m\u001b[38;5;124m\"\u001b[39m, converted_date_str)\n\u001b[0;32m     17\u001b[0m \u001b[38;5;28mprint\u001b[39m(\u001b[38;5;28mtype\u001b[39m(converted_date_str))\n",
      "Cell \u001b[1;32mIn[4], line 3\u001b[0m, in \u001b[0;36mconvert_date_format\u001b[1;34m(date_str, from_format, to_format)\u001b[0m\n\u001b[0;32m      1\u001b[0m \u001b[38;5;28;01mdef\u001b[39;00m \u001b[38;5;21mconvert_date_format\u001b[39m(date_str, from_format, to_format):\n\u001b[0;32m      2\u001b[0m     \u001b[38;5;66;03m# Parse the input date string using the from_format\u001b[39;00m\n\u001b[1;32m----> 3\u001b[0m     date_obj \u001b[38;5;241m=\u001b[39m \u001b[43mdatetime\u001b[49m\u001b[38;5;241m.\u001b[39mdatetime\u001b[38;5;241m.\u001b[39mstrptime(date_str, from_format)\n\u001b[0;32m      5\u001b[0m     \u001b[38;5;66;03m# Format the date object using the to_format\u001b[39;00m\n\u001b[0;32m      6\u001b[0m     converted_date_str \u001b[38;5;241m=\u001b[39m date_obj\u001b[38;5;241m.\u001b[39mstrftime(to_format)\n",
      "\u001b[1;31mNameError\u001b[0m: name 'datetime' is not defined"
     ]
    }
   ],
   "source": [
    "def convert_date_format(date_str, from_format, to_format):\n",
    "    # Parse the input date string using the from_format\n",
    "    date_obj = datetime.datetime.strptime(date_str, from_format)\n",
    "    \n",
    "    # Format the date object using the to_format\n",
    "    converted_date_str = date_obj.strftime(to_format)\n",
    "    \n",
    "    return converted_date_str\n",
    "\n",
    "# Example usage:\n",
    "date_str = \"2022-04-15\"\n",
    "from_format = \"%Y-%m-%d\"\n",
    "to_format = \"%Y/%m/%d\"\n",
    "\n",
    "converted_date_str = convert_date_format(date_str, from_format, to_format)\n",
    "print(\"Converted date:\", converted_date_str)\n",
    "print(type(converted_date_str))\n"
   ]
  },
  {
   "cell_type": "code",
   "execution_count": null,
   "id": "4f2b6f12",
   "metadata": {},
   "outputs": [
    {
     "name": "stdout",
     "output_type": "stream",
     "text": [
      "2024-04-15\n"
     ]
    }
   ],
   "source": []
  }
 ],
 "metadata": {
  "kernelspec": {
   "display_name": "Python 3 (ipykernel)",
   "language": "python",
   "name": "python3"
  },
  "language_info": {
   "codemirror_mode": {
    "name": "ipython",
    "version": 3
   },
   "file_extension": ".py",
   "mimetype": "text/x-python",
   "name": "python",
   "nbconvert_exporter": "python",
   "pygments_lexer": "ipython3",
   "version": "3.11.5"
  }
 },
 "nbformat": 4,
 "nbformat_minor": 5
}
