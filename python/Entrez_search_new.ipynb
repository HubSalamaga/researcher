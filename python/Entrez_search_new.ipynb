{
 "cells": [
  {
   "cell_type": "code",
   "execution_count": 1,
   "metadata": {},
   "outputs": [],
   "source": [
    "from modules.QueryConst import Const\n",
    "import argparse\n",
    "import subprocess\n",
    "\n",
    "def main():\n",
    "    parser = argparse.ArgumentParser(description='Extract <body> content from HTML files in a folder.')\n",
    "    parser.add_argument('folder_path', help='Path to the folder containing HTML files')\n",
    "    args = parser.parse_args()\n",
    "    folder_path = args.folder_path\n",
    "    if folder_path:\n",
    "        subprocess.run(['python', './Extract_html_body.py', folder_path])\n",
    "                       \n",
    "    date_file_path, current_date = Const.write_current_date()\n",
    "    previous_date = Const.read_date(date_file_path=date_file_path)\n",
    "    Const.overwrite_date(date_file_path=date_file_path,previous_date=previous_date,current_date=current_date)\n",
    "\n",
    "if __name__ == \"__main__\":\n",
    "    main()"
   ]
  }
 ],
 "metadata": {
  "kernelspec": {
   "display_name": "Python 3",
   "language": "python",
   "name": "python3"
  },
  "language_info": {
   "codemirror_mode": {
    "name": "ipython",
    "version": 3
   },
   "file_extension": ".py",
   "mimetype": "text/x-python",
   "name": "python",
   "nbconvert_exporter": "python",
   "pygments_lexer": "ipython3",
   "version": "3.11.5"
  }
 },
 "nbformat": 4,
 "nbformat_minor": 2
}
