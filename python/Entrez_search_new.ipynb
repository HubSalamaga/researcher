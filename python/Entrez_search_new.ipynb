{
 "cells": [
  {
   "cell_type": "code",
   "execution_count": 2,
   "metadata": {},
   "outputs": [
    {
     "name": "stderr",
     "output_type": "stream",
     "text": [
      "usage: ipykernel_launcher.py [-h] folder_path\n",
      "ipykernel_launcher.py: error: the following arguments are required: folder_path\n"
     ]
    },
    {
     "ename": "SystemExit",
     "evalue": "2",
     "output_type": "error",
     "traceback": [
      "An exception has occurred, use %tb to see the full traceback.\n",
      "\u001b[1;31mSystemExit\u001b[0m\u001b[1;31m:\u001b[0m 2\n"
     ]
    }
   ],
   "source": [
    "import argparse\n",
    "import subprocess\n",
    "from modules.QueryConst import Const  # Assuming Const is a module you have defined\n",
    "from Bio import Entrez\n",
    "\n",
    "def main():\n",
    "    parser = argparse.ArgumentParser(description='Extract <body> content from HTML files in a folder.')\n",
    "    parser.add_argument('--folder_path', help='Path to the folder containing HTML files')\n",
    "    parser.add_argument('--is_first_run', action='store_true', help='Flag indicating if this is the first run.')\n",
    "    parser.add_argument('--threshold', type=int, default=7, help='Time threshold to search for articles in')\n",
    "    parser.add_argument('--abstract', help='Path to the folder containing abstract HTML files')\n",
    "\n",
    "    args = parser.parse_args()\n",
    "\n",
    "    folder_path = args.folder_path\n",
    "    first_run = args.is_first_run\n",
    "    threshold = args.threshold\n",
    "    abstract_source = args.abstract\n",
    "\n",
    "    # If folder_path is provided, run the Extract_html_body.py script\n",
    "    if folder_path:\n",
    "        try:\n",
    "            subprocess.run(['python', './Extract_html_body.py', folder_path], check=True)\n",
    "        except subprocess.CalledProcessError as e:\n",
    "            print(f\"An error occurred while running Extract_html_body.py: {e}\")\n",
    "    # If abstract_source is provided, run the Extract_abstract_body.py script\n",
    "    elif abstract_source:\n",
    "        try:\n",
    "            subprocess.run(['python', './Extract_abstract_body.py', abstract_source], check=True)\n",
    "        except subprocess.CalledProcessError as e:\n",
    "            print(f\"An error occurred while running Extract_abstract_body.py: {e}\")\n",
    "    # If neither folder_path nor abstract_source is provided, handle date and threshold logic\n",
    "    else:\n",
    "        try:\n",
    "            date_file_path, current_date = Const.write_current_date()\n",
    "            previous_date = Const.read_date(date_file_path=date_file_path)\n",
    "            Const.overwrite_date(\n",
    "                date_file_path=date_file_path,\n",
    "                previous_date=previous_date,\n",
    "                current_date=current_date,\n",
    "                is_first_run=first_run,\n",
    "                threshold=threshold\n",
    "            )\n",
    "        except Exception as e:\n",
    "            print(f\"An error occurred while handling dates and threshold: {e}\")\n",
    "\n",
    "if __name__ == \"__main__\":\n",
    "    main()\n",
    "\n",
    "# TODO:\n",
    "# Add MeSH terms to better create queries (manually!)\n",
    "# Extract citations from articles and possibly other statistics for AI\n",
    "# Extract the title and change the article name from PMC_ID\n"
   ]
  }
 ],
 "metadata": {
  "kernelspec": {
   "display_name": "Python 3",
   "language": "python",
   "name": "python3"
  },
  "language_info": {
   "codemirror_mode": {
    "name": "ipython",
    "version": 3
   },
   "file_extension": ".py",
   "mimetype": "text/x-python",
   "name": "python",
   "nbconvert_exporter": "python",
   "pygments_lexer": "ipython3",
   "version": "3.11.9"
  }
 },
 "nbformat": 4,
 "nbformat_minor": 2
}
