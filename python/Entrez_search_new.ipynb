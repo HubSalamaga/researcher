{
 "cells": [
  {
   "cell_type": "code",
   "execution_count": 1,
   "metadata": {},
   "outputs": [],
   "source": [
    "from modules.QueryConst import Const\n",
    "\n",
    "def main():\n",
    "    date_file_path, current_date = Const.write_current_date()\n",
    "    previous_date = Const.read_date(date_file_path=date_file_path)\n",
    "    Const.overwrite_date(date_file_path=date_file_path,previous_date=previous_date,current_date=current_date)\n",
    "\n",
    "\n"
   ]
  }
 ],
 "metadata": {
  "kernelspec": {
   "display_name": "Python 3",
   "language": "python",
   "name": "python3"
  },
  "language_info": {
   "codemirror_mode": {
    "name": "ipython",
    "version": 3
   },
   "file_extension": ".py",
   "mimetype": "text/x-python",
   "name": "python",
   "nbconvert_exporter": "python",
   "pygments_lexer": "ipython3",
   "version": "3.9.13"
  }
 },
 "nbformat": 4,
 "nbformat_minor": 2
}
