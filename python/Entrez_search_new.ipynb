{
 "cells": [
  {
   "cell_type": "code",
   "execution_count": 2,
   "metadata": {},
   "outputs": [
    {
     "name": "stderr",
     "output_type": "stream",
     "text": [
      "usage: ipykernel_launcher.py [-h] folder_path\n",
      "ipykernel_launcher.py: error: the following arguments are required: folder_path\n"
     ]
    },
    {
     "ename": "SystemExit",
     "evalue": "2",
     "output_type": "error",
     "traceback": [
      "An exception has occurred, use %tb to see the full traceback.\n",
      "\u001b[1;31mSystemExit\u001b[0m\u001b[1;31m:\u001b[0m 2\n"
     ]
    }
   ],
   "source": [
    "from modules.QueryConst import Const\n",
    "import argparse\n",
    "import subprocess\n",
    "from Bio import Entrez\n",
    "\n",
    "def main():\n",
    "    parser = argparse.ArgumentParser(description='Extract <body> content from HTML files in a folder.')\n",
    "    parser.add_argument('folder_path', help='Path to the folder containing HTML files', nargs= '?')\n",
    "    parser.add_argument('--is_first_run', action='store_true', help='Flag indicating if this is the first run.')\n",
    "    parser.add_argument('threshold',help= 'int time threshold to search for articles in',nargs=\"?\", default= 7 )\n",
    "    args = parser.parse_args()\n",
    "    folder_path = args.folder_path \n",
    "    first_run = args.is_first_run\n",
    "    threshold = args.threshold\n",
    "    if folder_path:\n",
    "        subprocess.run(['python', './Extract_html_body.py', folder_path])\n",
    "    else:\n",
    "        date_file_path, current_date = Const.write_current_date()\n",
    "        previous_date = Const.read_date(date_file_path=date_file_path)\n",
    "        Const.overwrite_date(date_file_path=date_file_path,previous_date=previous_date,current_date=current_date,is_first_run=args.is_first_run,args.threshold)\n",
    "\n",
    "if __name__ == \"__main__\":\n",
    "    main()\n",
    "\n",
    "#DODAĆ MESH TERMS ŻEBY LEPIEJ TWORZYĆ QUERY (RĘCZNIE!)\n",
    "#WYCIĄGNĄĆ CYTOWANIA Z ARTYKUŁÓW MOŻE INNE STATYSTYKI DLA AI\n",
    "#WYCIĄGNĄĆ TYTUŁ ZMIENIĆ NAZWĘ ARTYKUŁU Z PMC_ID"
   ]
  }
 ],
 "metadata": {
  "kernelspec": {
   "display_name": "Python 3",
   "language": "python",
   "name": "python3"
  },
  "language_info": {
   "codemirror_mode": {
    "name": "ipython",
    "version": 3
   },
   "file_extension": ".py",
   "mimetype": "text/x-python",
   "name": "python",
   "nbconvert_exporter": "python",
   "pygments_lexer": "ipython3",
   "version": "3.11.9"
  }
 },
 "nbformat": 4,
 "nbformat_minor": 2
}
